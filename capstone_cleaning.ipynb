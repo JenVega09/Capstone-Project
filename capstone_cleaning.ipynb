{
 "cells": [
  {
   "attachments": {},
   "cell_type": "markdown",
   "metadata": {},
   "source": [
    "#### Creating imports"
   ]
  },
  {
   "cell_type": "code",
   "execution_count": 1,
   "metadata": {},
   "outputs": [],
   "source": [
    "import pandas as pd\n",
    "import csv\n",
    "import matplotlib as plt\n",
    "from sklearn.linear_model import LinearRegression"
   ]
  },
  {
   "attachments": {},
   "cell_type": "markdown",
   "metadata": {},
   "source": [
    "### Creating DataFrames from HOPE data"
   ]
  },
  {
   "cell_type": "code",
   "execution_count": 11,
   "metadata": {},
   "outputs": [
    {
     "name": "stdout",
     "output_type": "stream",
     "text": [
      "<class 'pandas.core.frame.DataFrame'>\n",
      "Index: 50 entries, 1 to 56\n",
      "Data columns (total 45 columns):\n",
      " #   Column           Non-Null Count  Dtype  \n",
      "---  ------           --------------  -----  \n",
      " 0   state            50 non-null     object \n",
      " 1   state_exp        50 non-null     object \n",
      " 2   var              50 non-null     object \n",
      " 3   domain           50 non-null     object \n",
      " 4    white_rate      50 non-null     float64\n",
      " 5    black_rate      48 non-null     float64\n",
      " 6    aian_rate       47 non-null     float64\n",
      " 7    aspi_rate       50 non-null     float64\n",
      " 8    multi_rate      50 non-null     float64\n",
      " 9    hisp_rate       50 non-null     float64\n",
      " 10   state_rate      50 non-null     float64\n",
      " 11  benchmark        50 non-null     float64\n",
      " 12  white_dtgnum     50 non-null     int64  \n",
      " 13  black_dtgnum     48 non-null     float64\n",
      " 14  aian_dtgnum      47 non-null     float64\n",
      " 15  aspi_dtgnum      50 non-null     int64  \n",
      " 16  multi_dtgnum     50 non-null     int64  \n",
      " 17  hisp_dtgnum      50 non-null     int64  \n",
      " 18  dtgnum_re        46 non-null     float64\n",
      " 19   dtgperc_re      46 non-null     float64\n",
      " 20  rankdtg_re       46 non-null     float64\n",
      " 21  iss              46 non-null     float64\n",
      " 22  eqquin           46 non-null     float64\n",
      " 23  dtgquin          46 non-null     float64\n",
      " 24   fpl099_rate     0 non-null      float64\n",
      " 25   fpl100_rate     0 non-null      float64\n",
      " 26   fpl200_rate     0 non-null      float64\n",
      " 27   fpl300_rate     0 non-null      float64\n",
      " 28   fpl400_rate     0 non-null      float64\n",
      " 29  fpl099_dtgnum    0 non-null      float64\n",
      " 30  fpl100_dtgnum    0 non-null      float64\n",
      " 31  fpl200_dtgnum    0 non-null      float64\n",
      " 32  fpl300_dtgnum    0 non-null      float64\n",
      " 33  fpl400_dtgnum    0 non-null      float64\n",
      " 34   nohsg_rate      50 non-null     float64\n",
      " 35   hsgrad_rate     50 non-null     float64\n",
      " 36   somecoll_rate   50 non-null     float64\n",
      " 37   collgrad_rate   50 non-null     float64\n",
      " 38  nohsg_dtgnum     50 non-null     int64  \n",
      " 39  hsgrad_dtgnum    50 non-null     int64  \n",
      " 40  somecoll_dtgnum  50 non-null     int64  \n",
      " 41  collgrad_dtgnum  50 non-null     int64  \n",
      " 42  dtgnum_ses       50 non-null     int64  \n",
      " 43   dtgperc_ses     50 non-null     float64\n",
      " 44  rankdtg_ses      50 non-null     int64  \n",
      "dtypes: float64(31), int64(10), object(4)\n",
      "memory usage: 18.0+ KB\n"
     ]
    }
   ],
   "source": [
    "employment_df = pd.read_csv(\"Employment.csv\", index_col=\"fips\")\n",
    "homeownership_df = pd.read_csv(\"Homeownership.csv\", index_col=\"fips\")\n",
    "livable_income_df = pd.read_csv(\"LivableIncome.csv\", index_col=\"fips\")\n",
    "postsec_edu_df = pd.read_csv(\"PostsecondaryEducation.csv\", index_col=\"fips\")\n",
    "youth_in_school_or_working_df = pd.read_csv(\"YouthinSchoolorWorking.csv\", index_col=\"fips\")\n",
    "affordable_housing_df = pd.read_csv(\"AffordableHousing.csv\", index_col=\"fips\")\n",
    "\n",
    "homeownership_df.info()"
   ]
  },
  {
   "attachments": {},
   "cell_type": "markdown",
   "metadata": {},
   "source": [
    "### Removing null values"
   ]
  },
  {
   "cell_type": "code",
   "execution_count": 12,
   "metadata": {},
   "outputs": [
    {
     "name": "stdout",
     "output_type": "stream",
     "text": [
      "<class 'pandas.core.frame.DataFrame'>\n",
      "Index: 0 entries\n",
      "Data columns (total 45 columns):\n",
      " #   Column           Non-Null Count  Dtype  \n",
      "---  ------           --------------  -----  \n",
      " 0   state            0 non-null      object \n",
      " 1   state_exp        0 non-null      object \n",
      " 2   var              0 non-null      object \n",
      " 3   domain           0 non-null      object \n",
      " 4    white_rate      0 non-null      float64\n",
      " 5    black_rate      0 non-null      float64\n",
      " 6    aian_rate       0 non-null      float64\n",
      " 7    aspi_rate       0 non-null      float64\n",
      " 8    multi_rate      0 non-null      float64\n",
      " 9    hisp_rate       0 non-null      float64\n",
      " 10   state_rate      0 non-null      float64\n",
      " 11  benchmark        0 non-null      float64\n",
      " 12  white_dtgnum     0 non-null      int64  \n",
      " 13  black_dtgnum     0 non-null      int64  \n",
      " 14  aian_dtgnum      0 non-null      float64\n",
      " 15  aspi_dtgnum      0 non-null      int64  \n",
      " 16  multi_dtgnum     0 non-null      int64  \n",
      " 17  hisp_dtgnum      0 non-null      int64  \n",
      " 18  dtgnum_re        0 non-null      float64\n",
      " 19   dtgperc_re      0 non-null      float64\n",
      " 20  rankdtg_re       0 non-null      float64\n",
      " 21  iss              0 non-null      float64\n",
      " 22  eqquin           0 non-null      float64\n",
      " 23  dtgquin          0 non-null      float64\n",
      " 24   fpl099_rate     0 non-null      float64\n",
      " 25   fpl100_rate     0 non-null      float64\n",
      " 26   fpl200_rate     0 non-null      float64\n",
      " 27   fpl300_rate     0 non-null      float64\n",
      " 28   fpl400_rate     0 non-null      float64\n",
      " 29  fpl099_dtgnum    0 non-null      int64  \n",
      " 30  fpl100_dtgnum    0 non-null      int64  \n",
      " 31  fpl200_dtgnum    0 non-null      int64  \n",
      " 32  fpl300_dtgnum    0 non-null      int64  \n",
      " 33  fpl400_dtgnum    0 non-null      int64  \n",
      " 34   nohsg_rate      0 non-null      float64\n",
      " 35   hsgrad_rate     0 non-null      float64\n",
      " 36   somecoll_rate   0 non-null      float64\n",
      " 37   collgrad_rate   0 non-null      float64\n",
      " 38  nohsg_dtgnum     0 non-null      float64\n",
      " 39  hsgrad_dtgnum    0 non-null      float64\n",
      " 40  somecoll_dtgnum  0 non-null      float64\n",
      " 41  collgrad_dtgnum  0 non-null      float64\n",
      " 42  dtgnum_ses       0 non-null      int64  \n",
      " 43   dtgperc_ses     0 non-null      float64\n",
      " 44  rankdtg_ses      0 non-null      int64  \n",
      "dtypes: float64(29), int64(12), object(4)\n",
      "memory usage: 0.0+ bytes\n"
     ]
    }
   ],
   "source": [
    "non_null_employment_df = employment_df.dropna()\n",
    "non_null_homeownership_df = homeownership_df.dropna()\n",
    "non_null_livable_income_df = livable_income_df.dropna()\n",
    "non_null_postsec_edu_df = postsec_edu_df.dropna()\n",
    "non_null_youth = youth_in_school_or_working_df.dropna()\n",
    "non_null_affordable_housing_df = affordable_housing_df.dropna()\n",
    "non_null_employment_df.info()"
   ]
  }
 ],
 "metadata": {
  "kernelspec": {
   "display_name": "Python 3",
   "language": "python",
   "name": "python3"
  },
  "language_info": {
   "codemirror_mode": {
    "name": "ipython",
    "version": 3
   },
   "file_extension": ".py",
   "mimetype": "text/x-python",
   "name": "python",
   "nbconvert_exporter": "python",
   "pygments_lexer": "ipython3",
   "version": "3.11.2"
  },
  "orig_nbformat": 4
 },
 "nbformat": 4,
 "nbformat_minor": 2
}
