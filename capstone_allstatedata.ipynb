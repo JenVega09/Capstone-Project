{
 "cells": [
  {
   "cell_type": "code",
   "execution_count": null,
   "metadata": {},
   "outputs": [],
   "source": []
  },
  {
   "attachments": {},
   "cell_type": "markdown",
   "metadata": {},
   "source": [
    "### Imports"
   ]
  },
  {
   "cell_type": "code",
   "execution_count": 1,
   "metadata": {},
   "outputs": [],
   "source": [
    "import pandas as pd\n",
    "import csv\n",
    "import matplotlib as plt\n",
    "from sklearn.linear_model import LinearRegression"
   ]
  },
  {
   "attachments": {},
   "cell_type": "markdown",
   "metadata": {},
   "source": [
    "### Importing csv file"
   ]
  },
  {
   "cell_type": "code",
   "execution_count": 2,
   "metadata": {},
   "outputs": [
    {
     "name": "stdout",
     "output_type": "stream",
     "text": [
      "<class 'pandas.core.frame.DataFrame'>\n",
      "Index: 50 entries, 1 to 56\n",
      "Data columns (total 11 columns):\n",
      " #   Column                   Non-Null Count  Dtype  \n",
      "---  ------                   --------------  -----  \n",
      " 0   state                    50 non-null     object \n",
      " 1   state_exp                50 non-null     object \n",
      " 2   dataYear                 50 non-null     int64  \n",
      " 3   reIncarcerationRate      50 non-null     object \n",
      " 4   reIncarcerationRate2018  42 non-null     float64\n",
      " 5    Employment              50 non-null     float64\n",
      " 6    Homeownership           50 non-null     float64\n",
      " 7    Livable Income          50 non-null     float64\n",
      " 8    Postsecondary Edu       50 non-null     float64\n",
      " 9    Youth                   50 non-null     float64\n",
      " 10   Affordable Housing      50 non-null     float64\n",
      "dtypes: float64(7), int64(1), object(3)\n",
      "memory usage: 4.7+ KB\n"
     ]
    }
   ],
   "source": [
    "allstate_df = pd.read_csv(\"allstatedata.csv\", index_col=\"fips\")\n",
    "allstate_df.info()\n"
   ]
  },
  {
   "attachments": {},
   "cell_type": "markdown",
   "metadata": {},
   "source": [
    "### Removing Null Values"
   ]
  },
  {
   "cell_type": "code",
   "execution_count": 3,
   "metadata": {},
   "outputs": [
    {
     "name": "stdout",
     "output_type": "stream",
     "text": [
      "<class 'pandas.core.frame.DataFrame'>\n",
      "Index: 42 entries, 1 to 56\n",
      "Data columns (total 11 columns):\n",
      " #   Column                   Non-Null Count  Dtype  \n",
      "---  ------                   --------------  -----  \n",
      " 0   state                    42 non-null     object \n",
      " 1   state_exp                42 non-null     object \n",
      " 2   dataYear                 42 non-null     int64  \n",
      " 3   reIncarcerationRate      42 non-null     object \n",
      " 4   reIncarcerationRate2018  42 non-null     float64\n",
      " 5    Employment              42 non-null     float64\n",
      " 6    Homeownership           42 non-null     float64\n",
      " 7    Livable Income          42 non-null     float64\n",
      " 8    Postsecondary Edu       42 non-null     float64\n",
      " 9    Youth                   42 non-null     float64\n",
      " 10   Affordable Housing      42 non-null     float64\n",
      "dtypes: float64(7), int64(1), object(3)\n",
      "memory usage: 3.9+ KB\n"
     ]
    }
   ],
   "source": [
    "nonnull_allstate_df = allstate_df.dropna()\n",
    "nonnull_allstate_df.info()"
   ]
  },
  {
   "attachments": {},
   "cell_type": "markdown",
   "metadata": {},
   "source": [
    "### Converting reIncarcerationRate to numeric"
   ]
  },
  {
   "cell_type": "code",
   "execution_count": 5,
   "metadata": {},
   "outputs": [
    {
     "name": "stdout",
     "output_type": "stream",
     "text": [
      "<class 'pandas.core.frame.DataFrame'>\n",
      "Index: 42 entries, 1 to 56\n",
      "Data columns (total 11 columns):\n",
      " #   Column                   Non-Null Count  Dtype  \n",
      "---  ------                   --------------  -----  \n",
      " 0   state                    42 non-null     object \n",
      " 1   state_exp                42 non-null     object \n",
      " 2   dataYear                 42 non-null     int64  \n",
      " 3   reIncarcerationRate      42 non-null     float64\n",
      " 4   reIncarcerationRate2018  42 non-null     float64\n",
      " 5    Employment              42 non-null     float64\n",
      " 6    Homeownership           42 non-null     float64\n",
      " 7    Livable Income          42 non-null     float64\n",
      " 8    Postsecondary Edu       42 non-null     float64\n",
      " 9    Youth                   42 non-null     float64\n",
      " 10   Affordable Housing      42 non-null     float64\n",
      "dtypes: float64(8), int64(1), object(2)\n",
      "memory usage: 3.9+ KB\n"
     ]
    },
    {
     "name": "stderr",
     "output_type": "stream",
     "text": [
      "C:\\Users\\jenve\\AppData\\Local\\Temp\\ipykernel_16852\\3510883376.py:1: SettingWithCopyWarning: \n",
      "A value is trying to be set on a copy of a slice from a DataFrame.\n",
      "Try using .loc[row_indexer,col_indexer] = value instead\n",
      "\n",
      "See the caveats in the documentation: https://pandas.pydata.org/pandas-docs/stable/user_guide/indexing.html#returning-a-view-versus-a-copy\n",
      "  nonnull_allstate_df[[\"reIncarcerationRate\"]] = nonnull_allstate_df[[\"reIncarcerationRate\"]].apply(pd.to_numeric)\n"
     ]
    }
   ],
   "source": [
    "nonnull_allstate_df[[\"reIncarcerationRate\"]] = nonnull_allstate_df[[\"reIncarcerationRate\"]].apply(pd.to_numeric)\n",
    "nonnull_allstate_df.info()"
   ]
  },
  {
   "attachments": {},
   "cell_type": "markdown",
   "metadata": {},
   "source": [
    "### Getting description of dataframe"
   ]
  },
  {
   "cell_type": "code",
   "execution_count": 6,
   "metadata": {},
   "outputs": [
    {
     "data": {
      "text/html": [
       "<div>\n",
       "<style scoped>\n",
       "    .dataframe tbody tr th:only-of-type {\n",
       "        vertical-align: middle;\n",
       "    }\n",
       "\n",
       "    .dataframe tbody tr th {\n",
       "        vertical-align: top;\n",
       "    }\n",
       "\n",
       "    .dataframe thead th {\n",
       "        text-align: right;\n",
       "    }\n",
       "</style>\n",
       "<table border=\"1\" class=\"dataframe\">\n",
       "  <thead>\n",
       "    <tr style=\"text-align: right;\">\n",
       "      <th></th>\n",
       "      <th>dataYear</th>\n",
       "      <th>reIncarcerationRate</th>\n",
       "      <th>reIncarcerationRate2018</th>\n",
       "      <th>Employment</th>\n",
       "      <th>Homeownership</th>\n",
       "      <th>Livable Income</th>\n",
       "      <th>Postsecondary Edu</th>\n",
       "      <th>Youth</th>\n",
       "      <th>Affordable Housing</th>\n",
       "    </tr>\n",
       "  </thead>\n",
       "  <tbody>\n",
       "    <tr>\n",
       "      <th>count</th>\n",
       "      <td>42.0</td>\n",
       "      <td>42.000000</td>\n",
       "      <td>42.000000</td>\n",
       "      <td>42.000000</td>\n",
       "      <td>42.000000</td>\n",
       "      <td>42.000000</td>\n",
       "      <td>42.000000</td>\n",
       "      <td>42.000000</td>\n",
       "      <td>42.000000</td>\n",
       "    </tr>\n",
       "    <tr>\n",
       "      <th>mean</th>\n",
       "      <td>2021.0</td>\n",
       "      <td>36.695238</td>\n",
       "      <td>36.635714</td>\n",
       "      <td>0.938595</td>\n",
       "      <td>0.686667</td>\n",
       "      <td>0.629452</td>\n",
       "      <td>0.600476</td>\n",
       "      <td>0.878810</td>\n",
       "      <td>0.722238</td>\n",
       "    </tr>\n",
       "    <tr>\n",
       "      <th>std</th>\n",
       "      <td>0.0</td>\n",
       "      <td>9.479167</td>\n",
       "      <td>10.504629</td>\n",
       "      <td>0.013427</td>\n",
       "      <td>0.040256</td>\n",
       "      <td>0.061451</td>\n",
       "      <td>0.052237</td>\n",
       "      <td>0.027369</td>\n",
       "      <td>0.045393</td>\n",
       "    </tr>\n",
       "    <tr>\n",
       "      <th>min</th>\n",
       "      <td>2021.0</td>\n",
       "      <td>21.000000</td>\n",
       "      <td>21.000000</td>\n",
       "      <td>0.914000</td>\n",
       "      <td>0.547000</td>\n",
       "      <td>0.504000</td>\n",
       "      <td>0.454000</td>\n",
       "      <td>0.825000</td>\n",
       "      <td>0.613000</td>\n",
       "    </tr>\n",
       "    <tr>\n",
       "      <th>25%</th>\n",
       "      <td>2021.0</td>\n",
       "      <td>29.750000</td>\n",
       "      <td>28.900000</td>\n",
       "      <td>0.928000</td>\n",
       "      <td>0.672500</td>\n",
       "      <td>0.580500</td>\n",
       "      <td>0.571000</td>\n",
       "      <td>0.856750</td>\n",
       "      <td>0.696250</td>\n",
       "    </tr>\n",
       "    <tr>\n",
       "      <th>50%</th>\n",
       "      <td>2021.0</td>\n",
       "      <td>36.550000</td>\n",
       "      <td>34.050000</td>\n",
       "      <td>0.937500</td>\n",
       "      <td>0.692000</td>\n",
       "      <td>0.635000</td>\n",
       "      <td>0.608000</td>\n",
       "      <td>0.879500</td>\n",
       "      <td>0.725500</td>\n",
       "    </tr>\n",
       "    <tr>\n",
       "      <th>75%</th>\n",
       "      <td>2021.0</td>\n",
       "      <td>42.625000</td>\n",
       "      <td>42.925000</td>\n",
       "      <td>0.949000</td>\n",
       "      <td>0.711250</td>\n",
       "      <td>0.677250</td>\n",
       "      <td>0.642500</td>\n",
       "      <td>0.897750</td>\n",
       "      <td>0.751750</td>\n",
       "    </tr>\n",
       "    <tr>\n",
       "      <th>max</th>\n",
       "      <td>2021.0</td>\n",
       "      <td>61.600000</td>\n",
       "      <td>64.500000</td>\n",
       "      <td>0.973000</td>\n",
       "      <td>0.744000</td>\n",
       "      <td>0.730000</td>\n",
       "      <td>0.696000</td>\n",
       "      <td>0.925000</td>\n",
       "      <td>0.805000</td>\n",
       "    </tr>\n",
       "  </tbody>\n",
       "</table>\n",
       "</div>"
      ],
      "text/plain": [
       "       dataYear  reIncarcerationRate  reIncarcerationRate2018   Employment    \n",
       "count      42.0            42.000000                42.000000     42.000000  \\\n",
       "mean     2021.0            36.695238                36.635714      0.938595   \n",
       "std         0.0             9.479167                10.504629      0.013427   \n",
       "min      2021.0            21.000000                21.000000      0.914000   \n",
       "25%      2021.0            29.750000                28.900000      0.928000   \n",
       "50%      2021.0            36.550000                34.050000      0.937500   \n",
       "75%      2021.0            42.625000                42.925000      0.949000   \n",
       "max      2021.0            61.600000                64.500000      0.973000   \n",
       "\n",
       "        Homeownership    Livable Income    Postsecondary Edu      Youth    \n",
       "count        42.000000         42.000000            42.000000  42.000000  \\\n",
       "mean          0.686667          0.629452             0.600476   0.878810   \n",
       "std           0.040256          0.061451             0.052237   0.027369   \n",
       "min           0.547000          0.504000             0.454000   0.825000   \n",
       "25%           0.672500          0.580500             0.571000   0.856750   \n",
       "50%           0.692000          0.635000             0.608000   0.879500   \n",
       "75%           0.711250          0.677250             0.642500   0.897750   \n",
       "max           0.744000          0.730000             0.696000   0.925000   \n",
       "\n",
       "        Affordable Housing   \n",
       "count             42.000000  \n",
       "mean               0.722238  \n",
       "std                0.045393  \n",
       "min                0.613000  \n",
       "25%                0.696250  \n",
       "50%                0.725500  \n",
       "75%                0.751750  \n",
       "max                0.805000  "
      ]
     },
     "execution_count": 6,
     "metadata": {},
     "output_type": "execute_result"
    }
   ],
   "source": [
    "nonnull_allstate_df.describe()"
   ]
  },
  {
   "attachments": {},
   "cell_type": "markdown",
   "metadata": {},
   "source": [
    "### Renaming Column and dropping dataYear column "
   ]
  },
  {
   "cell_type": "code",
   "execution_count": 10,
   "metadata": {},
   "outputs": [
    {
     "name": "stdout",
     "output_type": "stream",
     "text": [
      "<class 'pandas.core.frame.DataFrame'>\n",
      "Index: 42 entries, 1 to 56\n",
      "Data columns (total 10 columns):\n",
      " #   Column                   Non-Null Count  Dtype  \n",
      "---  ------                   --------------  -----  \n",
      " 0   state                    42 non-null     object \n",
      " 1   state_exp                42 non-null     object \n",
      " 2   reIncarcerationRate2021  42 non-null     float64\n",
      " 3   reIncarcerationRate2018  42 non-null     float64\n",
      " 4    Employment              42 non-null     float64\n",
      " 5    Homeownership           42 non-null     float64\n",
      " 6    Livable Income          42 non-null     float64\n",
      " 7    Postsecondary Edu       42 non-null     float64\n",
      " 8    Youth                   42 non-null     float64\n",
      " 9    Affordable Housing      42 non-null     float64\n",
      "dtypes: float64(8), object(2)\n",
      "memory usage: 3.6+ KB\n"
     ]
    }
   ],
   "source": [
    "nonnull_allstate_df = nonnull_allstate_df.rename(columns = {\"reIncarcerationRate\" : \"reIncarcerationRate2021\"})\n",
    "nonnull_allstate_df = nonnull_allstate_df.drop([\"dataYear\"], axis=1)\n",
    "nonnull_allstate_df.info()"
   ]
  },
  {
   "attachments": {},
   "cell_type": "markdown",
   "metadata": {},
   "source": [
    "### Testing for Correlation"
   ]
  },
  {
   "cell_type": "code",
   "execution_count": 11,
   "metadata": {},
   "outputs": [
    {
     "data": {
      "text/html": [
       "<div>\n",
       "<style scoped>\n",
       "    .dataframe tbody tr th:only-of-type {\n",
       "        vertical-align: middle;\n",
       "    }\n",
       "\n",
       "    .dataframe tbody tr th {\n",
       "        vertical-align: top;\n",
       "    }\n",
       "\n",
       "    .dataframe thead th {\n",
       "        text-align: right;\n",
       "    }\n",
       "</style>\n",
       "<table border=\"1\" class=\"dataframe\">\n",
       "  <thead>\n",
       "    <tr style=\"text-align: right;\">\n",
       "      <th></th>\n",
       "      <th>reIncarcerationRate2021</th>\n",
       "      <th>reIncarcerationRate2018</th>\n",
       "      <th>Employment</th>\n",
       "      <th>Homeownership</th>\n",
       "      <th>Livable Income</th>\n",
       "      <th>Postsecondary Edu</th>\n",
       "      <th>Youth</th>\n",
       "      <th>Affordable Housing</th>\n",
       "    </tr>\n",
       "  </thead>\n",
       "  <tbody>\n",
       "    <tr>\n",
       "      <th>reIncarcerationRate2021</th>\n",
       "      <td>1.000000</td>\n",
       "      <td>0.902558</td>\n",
       "      <td>0.036815</td>\n",
       "      <td>0.039509</td>\n",
       "      <td>0.205198</td>\n",
       "      <td>0.066236</td>\n",
       "      <td>-0.017029</td>\n",
       "      <td>-0.012428</td>\n",
       "    </tr>\n",
       "    <tr>\n",
       "      <th>reIncarcerationRate2018</th>\n",
       "      <td>0.902558</td>\n",
       "      <td>1.000000</td>\n",
       "      <td>0.062944</td>\n",
       "      <td>-0.009909</td>\n",
       "      <td>0.165150</td>\n",
       "      <td>0.062627</td>\n",
       "      <td>-0.069692</td>\n",
       "      <td>-0.032094</td>\n",
       "    </tr>\n",
       "    <tr>\n",
       "      <th>Employment</th>\n",
       "      <td>0.036815</td>\n",
       "      <td>0.062944</td>\n",
       "      <td>1.000000</td>\n",
       "      <td>0.371150</td>\n",
       "      <td>0.461972</td>\n",
       "      <td>0.486552</td>\n",
       "      <td>0.766202</td>\n",
       "      <td>0.453664</td>\n",
       "    </tr>\n",
       "    <tr>\n",
       "      <th>Homeownership</th>\n",
       "      <td>0.039509</td>\n",
       "      <td>-0.009909</td>\n",
       "      <td>0.371150</td>\n",
       "      <td>1.000000</td>\n",
       "      <td>-0.051059</td>\n",
       "      <td>-0.092202</td>\n",
       "      <td>0.175290</td>\n",
       "      <td>0.639590</td>\n",
       "    </tr>\n",
       "    <tr>\n",
       "      <th>Livable Income</th>\n",
       "      <td>0.205198</td>\n",
       "      <td>0.165150</td>\n",
       "      <td>0.461972</td>\n",
       "      <td>-0.051059</td>\n",
       "      <td>1.000000</td>\n",
       "      <td>0.757490</td>\n",
       "      <td>0.750938</td>\n",
       "      <td>-0.250503</td>\n",
       "    </tr>\n",
       "    <tr>\n",
       "      <th>Postsecondary Edu</th>\n",
       "      <td>0.066236</td>\n",
       "      <td>0.062627</td>\n",
       "      <td>0.486552</td>\n",
       "      <td>-0.092202</td>\n",
       "      <td>0.757490</td>\n",
       "      <td>1.000000</td>\n",
       "      <td>0.690099</td>\n",
       "      <td>-0.198169</td>\n",
       "    </tr>\n",
       "    <tr>\n",
       "      <th>Youth</th>\n",
       "      <td>-0.017029</td>\n",
       "      <td>-0.069692</td>\n",
       "      <td>0.766202</td>\n",
       "      <td>0.175290</td>\n",
       "      <td>0.750938</td>\n",
       "      <td>0.690099</td>\n",
       "      <td>1.000000</td>\n",
       "      <td>0.027738</td>\n",
       "    </tr>\n",
       "    <tr>\n",
       "      <th>Affordable Housing</th>\n",
       "      <td>-0.012428</td>\n",
       "      <td>-0.032094</td>\n",
       "      <td>0.453664</td>\n",
       "      <td>0.639590</td>\n",
       "      <td>-0.250503</td>\n",
       "      <td>-0.198169</td>\n",
       "      <td>0.027738</td>\n",
       "      <td>1.000000</td>\n",
       "    </tr>\n",
       "  </tbody>\n",
       "</table>\n",
       "</div>"
      ],
      "text/plain": [
       "                         reIncarcerationRate2021  reIncarcerationRate2018   \n",
       "reIncarcerationRate2021                 1.000000                 0.902558  \\\n",
       "reIncarcerationRate2018                 0.902558                 1.000000   \n",
       " Employment                             0.036815                 0.062944   \n",
       " Homeownership                          0.039509                -0.009909   \n",
       " Livable Income                         0.205198                 0.165150   \n",
       " Postsecondary Edu                      0.066236                 0.062627   \n",
       " Youth                                 -0.017029                -0.069692   \n",
       " Affordable Housing                    -0.012428                -0.032094   \n",
       "\n",
       "                          Employment    Homeownership    Livable Income    \n",
       "reIncarcerationRate2021      0.036815         0.039509          0.205198  \\\n",
       "reIncarcerationRate2018      0.062944        -0.009909          0.165150   \n",
       " Employment                  1.000000         0.371150          0.461972   \n",
       " Homeownership               0.371150         1.000000         -0.051059   \n",
       " Livable Income              0.461972        -0.051059          1.000000   \n",
       " Postsecondary Edu           0.486552        -0.092202          0.757490   \n",
       " Youth                       0.766202         0.175290          0.750938   \n",
       " Affordable Housing          0.453664         0.639590         -0.250503   \n",
       "\n",
       "                          Postsecondary Edu     Youth    Affordable Housing   \n",
       "reIncarcerationRate2021             0.066236 -0.017029             -0.012428  \n",
       "reIncarcerationRate2018             0.062627 -0.069692             -0.032094  \n",
       " Employment                         0.486552  0.766202              0.453664  \n",
       " Homeownership                     -0.092202  0.175290              0.639590  \n",
       " Livable Income                     0.757490  0.750938             -0.250503  \n",
       " Postsecondary Edu                  1.000000  0.690099             -0.198169  \n",
       " Youth                              0.690099  1.000000              0.027738  \n",
       " Affordable Housing                -0.198169  0.027738              1.000000  "
      ]
     },
     "execution_count": 11,
     "metadata": {},
     "output_type": "execute_result"
    }
   ],
   "source": [
    "nonnull_allstate_df.corr(numeric_only=True)"
   ]
  },
  {
   "attachments": {},
   "cell_type": "markdown",
   "metadata": {},
   "source": [
    "### Exporting the cleaned csv file  "
   ]
  },
  {
   "cell_type": "code",
   "execution_count": 12,
   "metadata": {},
   "outputs": [],
   "source": [
    "nonnull_allstate_df.to_csv(\"clean_allstatedata.csv\", encoding = \"utf-8\")"
   ]
  }
 ],
 "metadata": {
  "kernelspec": {
   "display_name": "Python 3",
   "language": "python",
   "name": "python3"
  },
  "language_info": {
   "codemirror_mode": {
    "name": "ipython",
    "version": 3
   },
   "file_extension": ".py",
   "mimetype": "text/x-python",
   "name": "python",
   "nbconvert_exporter": "python",
   "pygments_lexer": "ipython3",
   "version": "3.11.2"
  },
  "orig_nbformat": 4
 },
 "nbformat": 4,
 "nbformat_minor": 2
}
